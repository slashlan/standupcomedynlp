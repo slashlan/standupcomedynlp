{
 "cells": [
  {
   "cell_type": "markdown",
   "id": "3cbb7074",
   "metadata": {},
   "source": [
    "# 4) Text generation with RNN models\n",
    "\n",
    "In order to run this section the Notebook properly, the file `glove.6B.100d.txt`(GloVe - vector dimension 100, trained on Wikipedia 2014 and Gigaword 5) should be downloaded from the GloVe link provided below and inserted in the repository.\n",
    "\n",
    "The aim of this section is to use a sample of stand-up comedy scripts to train 2 word-level models with a recurrent neural network (RNN) architecture and test their ability to generate new text $^{*}$. This means constructing models that use text sequences of a defined lenght as features to predict the next word in the sequence (i.e., y labels). In practice, the model is trained to predict the \"class\" of the next word in the sequence among the entire set of classes (i.e., all the words in the vocabulary).\n",
    "\n",
    "It must be noticed that this type of task is computationally very expensive and requires a significant amount of data and training time to reach high levels of accuracy. In addition, the complexity of stand-up comedy text (i.e., rich vocabulary compared to script lenght, lots of slang/acronyms) exacerbates further this aspect.\n",
    "\n",
    "For these reasons, I have adopted a number of measures to make the analysis feasible. First, only a subset of few similar documents has been used to train the models (specifically, all scripts included in the smallest cluster identified by k-means in section 3). Second, I kept the architecture of the RNN models as simple as possible to increase computational efficiency and reduce training time. Third, for similar reasons, I decided to use pre-trained weights from [GloVe](https://nlp.stanford.edu/projects/glove/) to embed text sequences for the deep learning models as this step dramatically reduces the number of model parameters to train.\n",
    "\n",
    "In sum, this section is made of 4 steps:\n",
    "- 4.1) Select the stand-up comedy scripts belonging to one of the clusters identified with K-means in section 3.3. Format and transform this sample of similar stand-up comedy scripts into a series of 50-words text sequences (features) followed by the 51st word in sequence (label). Each token in these sequences is then encoded as an integer. Using the encoded sequences, create training and validation sets for the models.\n",
    "- 4.2) Build a pre-trained embedding matrix to pass to the deep learning models. This is done by extracting pre-trained word vectors from the Global Vectors for Word Representation text file (GloVe - vector dimension 100, trained on Wikipedia 2014 and Gigaword 5) using the word lookup table (i.e. word-integers lookup table built in 4.1). These vectors are then used as the weights of the embedding matrix in the Keras Embedding layer. This step allows to reduce sizebly the number of parameters to train for each model.\n",
    "- 4.3) Define and train two RNN models (one based on LSTM cells and the other on GRU cells). After, compare their validation accuracy.\n",
    "- 4.4) Use the most performing RNN model (the one with higher validation accuracy) to generate new text and confront it with the real sequence from the script.\n",
    "\n",
    "\n",
    "$^{*}$ *For this section, I have drawn direct inspiration and fundamental help from the work of [Jason Brownlee](https://machinelearningmastery.com/how-to-develop-a-word-level-neural-language-model-in-keras/).*"
   ]
  },
  {
   "cell_type": "code",
   "execution_count": 48,
   "id": "99847546",
   "metadata": {},
   "outputs": [
    {
     "name": "stdout",
     "output_type": "stream",
     "text": [
      "Machine specifics: \n",
      " [name: \"/device:CPU:0\"\n",
      "device_type: \"CPU\"\n",
      "memory_limit: 268435456\n",
      "locality {\n",
      "}\n",
      "incarnation: 12623663323006143249\n",
      ", name: \"/device:GPU:0\"\n",
      "device_type: \"GPU\"\n",
      "memory_limit: 1463015835\n",
      "locality {\n",
      "  bus_id: 1\n",
      "  links {\n",
      "  }\n",
      "}\n",
      "incarnation: 16144087352801582025\n",
      "physical_device_desc: \"device: 0, name: GeForce GTX 960M, pci bus id: 0000:01:00.0, compute capability: 5.0\"\n",
      "]\n"
     ]
    }
   ],
   "source": [
    "# General libraries\n",
    "from tqdm import tqdm\n",
    "import os\n",
    "import re\n",
    "import string\n",
    "import pandas as pd\n",
    "import numpy as np\n",
    "import warnings\n",
    "import matplotlib.pyplot as plt\n",
    "%matplotlib inline\n",
    "import seaborn as sns\n",
    "import itertools\n",
    "from collections import Counter\n",
    "\n",
    "# Feature engineering\n",
    "from tensorflow.keras.preprocessing.text import Tokenizer\n",
    "from tensorflow.keras.utils import to_categorical\n",
    "from sklearn.utils import shuffle\n",
    "import random\n",
    "from random import randint\n",
    "\n",
    "# Model creation, training and text generation\n",
    "import tensorflow.keras as keras\n",
    "from tensorflow.keras.models import Sequential\n",
    "from tensorflow.keras.layers import Dense\n",
    "from tensorflow.keras.layers import LSTM\n",
    "from tensorflow.keras.layers import Embedding\n",
    "from tensorflow.keras.layers import Masking\n",
    "from tensorflow.keras.layers import Dropout\n",
    "from tensorflow.keras.layers import BatchNormalization\n",
    "from tensorflow.keras.layers import Bidirectional\n",
    "from tensorflow.keras.layers import GRU\n",
    "from pickle import load\n",
    "\n",
    "# Describe machine details and turn-off future warnings\n",
    "from tensorflow.python.client import device_lib\n",
    "print( 'Machine specifics:', '\\n', device_lib.list_local_devices())\n",
    "warnings.filterwarnings('ignore', category=FutureWarning)\n",
    "warnings.filterwarnings('ignore', category=RuntimeWarning)"
   ]
  },
  {
   "cell_type": "markdown",
   "id": "ee657604",
   "metadata": {},
   "source": [
    "## 4.1) Create sequences from text"
   ]
  },
  {
   "cell_type": "code",
   "execution_count": 49,
   "id": "324936f7",
   "metadata": {},
   "outputs": [
    {
     "name": "stdout",
     "output_type": "stream",
     "text": [
      "Number of total documents (stand-up comedy scripts): 143\n",
      "\n",
      "Number of scripts included in the subset: 9\n",
      "\n",
      "List of scripts used:\n",
      "\n",
      " 11                    Arsenio Hall: Smart & Classy\n",
      "24     Cedric the Entertainer: Live from the Ville\n",
      "26                           Chris Rock: Tamborine\n",
      "33                 Dave Chappelle: Sticks & Stones\n",
      "83                    Katt Williams: Great America\n",
      "90                      Leslie Jones: Time Machine\n",
      "96                         Marlon Wayans: Woke-ish\n",
      "122                      Sam Jay: 3 in the Morning\n",
      "134                    Tracy Morgan: Staying Alive\n",
      "Name: Title, dtype: object\n"
     ]
    }
   ],
   "source": [
    "# Extract text and make a unique list\n",
    "scripts = list(df['Text'])\n",
    "\n",
    "# Select small subsample of similar documents for text generation\n",
    "clust_to_use = min(cluster_desc, key=cluster_desc.get) # select cluster with smaller number of documents\n",
    "docs_idx_gen = list(np.where(text_lbl==clust_to_use)[0])\n",
    "\n",
    "subset_scripts = [scripts[i] for i in docs_idx_gen]\n",
    "\n",
    "print('Number of total documents (stand-up comedy scripts):', len(scripts))\n",
    "print('\\nNumber of scripts included in the subset:', len(subset_scripts))\n",
    "print('\\nList of scripts used:\\n\\n', df.loc[docs_idx_gen, 'Title'])"
   ]
  },
  {
   "cell_type": "code",
   "execution_count": 50,
   "id": "17865f67",
   "metadata": {},
   "outputs": [],
   "source": [
    "## Define function to retain punctuation in text sequences\n",
    "## and treat them as a \"words\" in the model\n",
    "\n",
    "def keep_punct(script):\n",
    "    \"\"\"Add spaces around punctuation\"\"\"\n",
    "\n",
    "    # Add spaces around punctuation\n",
    "    script = re.sub(r'(?<=[^\\s0-9])(?=[.,;?])', r' ', script)\n",
    "\n",
    "    # Remove double spaces\n",
    "    script = re.sub(r'\\s\\s', ' ', script)\n",
    "    return script"
   ]
  },
  {
   "cell_type": "code",
   "execution_count": 51,
   "id": "0432a92a",
   "metadata": {},
   "outputs": [
    {
     "name": "stdout",
     "output_type": "stream",
     "text": [
      "9 documents have been formatted to be transformed in sequences.\n"
     ]
    }
   ],
   "source": [
    "## Apply functions to retain punctuation in scripts \n",
    "formatted_docs = []\n",
    "\n",
    "# Iterate through scripts\n",
    "for s in subset_scripts:\n",
    "    formatted_docs.append(keep_punct(s))\n",
    "\n",
    "print('{} documents have been formatted to be transformed in sequences.'.format(len(formatted_docs)))"
   ]
  },
  {
   "cell_type": "code",
   "execution_count": 52,
   "id": "bcf6d193",
   "metadata": {},
   "outputs": [],
   "source": [
    "## Define function to transform formatted text in sequences for training\n",
    "\n",
    "# Set parameters\n",
    "SEQUENCE_LENGHT = 50\n",
    "\n",
    "def create_sequences(texts, training_length=SEQUENCE_LENGHT, lower=True, filters='!\"#$%&()*+,-./:;<=>?@[\\\\]^_`{|}~\\t\\n'):\n",
    "    \n",
    "    \"\"\"Turn a set of texts into sequences of integers\"\"\"\n",
    "\n",
    "    # Create the tokenizer object and train on texts\n",
    "    tokenizer = Tokenizer(lower=lower, filters=filters)\n",
    "    tokenizer.fit_on_texts(texts)\n",
    "\n",
    "    # Create look-up dictionaries and reverse look-ups\n",
    "    word_idx = tokenizer.word_index\n",
    "    idx_word = tokenizer.index_word\n",
    "    num_words = len(word_idx) + 1\n",
    "    word_counts = tokenizer.word_counts\n",
    "\n",
    "    print(f'The number of unique words in the vocabulary is {num_words}.')\n",
    "\n",
    "    # Convert text to sequences of integers\n",
    "    sequences = tokenizer.texts_to_sequences(texts)\n",
    "\n",
    "    # Limit to sequences with more tokens then the specified training length\n",
    "    seq_lengths = [len(x) for x in sequences]\n",
    "    over_idx = [i for i, l in enumerate(seq_lengths) if l > (training_length + 20)]\n",
    "\n",
    "    new_texts = []\n",
    "    new_sequences = []\n",
    "\n",
    "    # Only keep sequences with more than sequence length tokens\n",
    "    for i in over_idx:\n",
    "        new_texts.append(texts[i])\n",
    "        new_sequences.append(sequences[i])\n",
    "\n",
    "    training_seq = []\n",
    "    labels = []\n",
    "\n",
    "    # Iterate through the sequences of tokens\n",
    "    for seq in new_sequences:\n",
    "\n",
    "        # Create multiple training examples from each sequence\n",
    "        for i in range(training_length, len(seq)):\n",
    "            # Extract the features and label\n",
    "            extract = seq[i - training_length:i + 1]\n",
    "\n",
    "            # Set the features and label\n",
    "            training_seq.append(extract[:-1])\n",
    "            labels.append(extract[-1])\n",
    "\n",
    "    print(f'There are {len(training_seq)} training sequences with a lenght of at least {SEQUENCE_LENGHT} words.')\n",
    "\n",
    "    # Return everything needed for setting up the model\n",
    "    return word_idx, idx_word, num_words, word_counts, new_texts, new_sequences, training_seq, labels"
   ]
  },
  {
   "cell_type": "code",
   "execution_count": 53,
   "id": "03418b37",
   "metadata": {},
   "outputs": [
    {
     "name": "stdout",
     "output_type": "stream",
     "text": [
      "The number of unique words in the vocabulary is 5767.\n",
      "There are 72792 training sequences with a lenght of at least 50 words.\n"
     ]
    }
   ],
   "source": [
    "# Create training sequences\n",
    "\n",
    "word_idx, idx_word, num_words, word_counts, new_texts, sequences, features, labels = create_sequences(formatted_docs, lower=True)"
   ]
  },
  {
   "cell_type": "markdown",
   "id": "6b41f371",
   "metadata": {},
   "source": [
    "### Define training and validation sets"
   ]
  },
  {
   "cell_type": "code",
   "execution_count": 54,
   "id": "f9849dd5",
   "metadata": {},
   "outputs": [],
   "source": [
    "## Define function to split sequences in train and validation sets\n",
    "\n",
    "# Set parameters\n",
    "TRAIN_FRACTION = 0.7\n",
    "RANDOM_STATE = 50\n",
    "\n",
    "def create_train_valid(features, labels, num_words, train_fraction=TRAIN_FRACTION):\n",
    "    \n",
    "    \"\"\"Create training and validation features and labels.\"\"\"\n",
    "\n",
    "    # Randomly shuffle features and labels\n",
    "    features, labels = shuffle(features, labels, random_state=RANDOM_STATE)\n",
    "\n",
    "    # Decide on number of samples for training\n",
    "    train_end = int(train_fraction * len(labels))\n",
    "\n",
    "    train_features = np.array(features[:train_end])\n",
    "    valid_features = np.array(features[train_end:])\n",
    "\n",
    "    train_labels = labels[:train_end]\n",
    "    valid_labels = labels[train_end:]\n",
    "\n",
    "    # Convert features to arrays\n",
    "    X_train, X_valid = np.array(train_features), np.array(valid_features)\n",
    "    \n",
    "    # One-hot encode labels\n",
    "    y_train = to_categorical(train_labels, num_classes=num_words)\n",
    "    y_valid = to_categorical(valid_labels, num_classes=num_words)\n",
    "\n",
    "    # Memory management\n",
    "    import gc\n",
    "    gc.enable()\n",
    "    del features, labels, train_features, valid_features, train_labels, valid_labels\n",
    "    gc.collect()\n",
    "\n",
    "    return X_train, X_valid, y_train, y_valid"
   ]
  },
  {
   "cell_type": "code",
   "execution_count": 55,
   "id": "7c40cd36",
   "metadata": {},
   "outputs": [
    {
     "name": "stdout",
     "output_type": "stream",
     "text": [
      "Training set features shape: (50954, 50)\n",
      "Training set labels shape: (50954, 5767) \n",
      "\n",
      "Validation set features shape: (21838, 50)\n",
      "Validation set labels shape: (21838, 5767)\n"
     ]
    }
   ],
   "source": [
    "# Apply function and split sequences\n",
    "\n",
    "X_train, X_valid, y_train, y_valid = create_train_valid(features, labels, num_words)\n",
    "\n",
    "print('Training set features shape:', X_train.shape)\n",
    "print('Training set labels shape:', y_train.shape, '\\n')\n",
    "print('Validation set features shape:', X_valid.shape)\n",
    "print('Validation set labels shape:', y_valid.shape)"
   ]
  },
  {
   "cell_type": "markdown",
   "id": "0054c250",
   "metadata": {},
   "source": [
    "## 4.2) Load pre-trained embeddings from GloVe and create embeddings matrix\n",
    "\n",
    "Using pre-trained embeddings means we have about half the parameters to train. However, this also means that the embeddings might not be the best for our data, and there are a number of words with no embeddings. For this reason, words in the vocabulary for which a pre-trained vector is not present have been set to zero."
   ]
  },
  {
   "cell_type": "code",
   "execution_count": 56,
   "id": "54e1909b",
   "metadata": {},
   "outputs": [
    {
     "name": "stdout",
     "output_type": "stream",
     "text": [
      "Number of words vectors: 400000 , Size word vectors:  101\n"
     ]
    }
   ],
   "source": [
    "# Load in unzipped file\n",
    "glove_vectors = 'GloVe_embed\\glove.6B.100d.txt'\n",
    "glove = np.loadtxt(glove_vectors, dtype='str', encoding='utf-8', comments=None)\n",
    "\n",
    "print('Number of words vectors:', glove.shape[0], ', Size word vectors: ', glove.shape[1])"
   ]
  },
  {
   "cell_type": "code",
   "execution_count": 57,
   "id": "db2dcde9",
   "metadata": {},
   "outputs": [
    {
     "data": {
      "text/plain": [
       "(array([-1.4401e-01,  3.2554e-01,  1.4257e-01, -9.9227e-02,  7.2536e-01,\n",
       "         1.9321e-01, -2.4188e-01,  2.0223e-01, -8.9599e-01,  1.5215e-01,\n",
       "         3.5963e-02, -5.9513e-01, -5.1635e-02, -1.4428e-02,  3.5475e-01,\n",
       "        -3.1859e-01,  7.6984e-01, -8.7369e-02, -2.4762e-01,  6.5059e-01,\n",
       "        -1.5138e-01, -4.2703e-01,  1.8813e-01,  9.1562e-02,  1.5192e-01,\n",
       "         1.1303e-01, -1.5222e-01, -6.2786e-01, -2.3923e-01,  9.6009e-02,\n",
       "        -4.6147e-01,  4.1526e-01, -3.0475e-01,  1.3710e-01,  1.6758e-01,\n",
       "         5.3301e-01, -4.3658e-02,  8.5924e-01, -4.1192e-01, -2.1394e-01,\n",
       "        -5.1228e-01, -3.1945e-01,  1.2662e-01, -3.1510e-01,  3.1429e-03,\n",
       "         2.7129e-01,  1.7328e-01, -1.3159e+00, -4.2414e-01, -6.9126e-01,\n",
       "         1.9017e-02, -1.3375e-01, -9.6057e-02,  1.7069e+00, -6.5291e-01,\n",
       "        -2.6111e+00,  2.6518e-01, -6.1178e-01,  2.0950e+00,  3.8148e-01,\n",
       "        -5.5823e-01,  2.0360e-01, -3.3704e-01,  3.7354e-01,  6.9510e-01,\n",
       "        -1.6370e-03,  8.1885e-01,  5.1793e-01,  2.7746e-01, -3.7177e-01,\n",
       "        -4.3345e-01, -4.2732e-01, -5.4912e-01, -3.0715e-01,  1.8101e-01,\n",
       "         2.7090e-01, -2.9266e-01,  3.0834e-01, -1.4624e+00, -1.8999e-01,\n",
       "         9.2277e-01, -9.9217e-02, -2.5165e-01,  4.9197e-01, -1.5250e+00,\n",
       "         1.5326e-01,  2.8270e-01,  1.2102e-01, -3.6766e-01, -6.1275e-01,\n",
       "        -1.8884e-01,  1.0907e-01,  1.2315e-01,  9.0066e-02, -6.5447e-01,\n",
       "        -1.7252e-01,  2.6336e-05,  2.5398e-01,  1.1078e+00, -7.3074e-02]),\n",
       " 'for')"
      ]
     },
     "execution_count": 57,
     "metadata": {},
     "output_type": "execute_result"
    }
   ],
   "source": [
    "# Separate vectors and labels\n",
    "vectors = glove[:, 1:].astype('float')\n",
    "words_label = glove[:, 0]\n",
    "\n",
    "# Free up space\n",
    "del glove\n",
    "\n",
    "# Print example of word and its vector\n",
    "vectors[10], words_label[10]"
   ]
  },
  {
   "cell_type": "code",
   "execution_count": 58,
   "id": "946448bc",
   "metadata": {},
   "outputs": [
    {
     "name": "stdout",
     "output_type": "stream",
     "text": [
      "There are 712 words without pre-trained embeddings.\n",
      "Shape embedding matrix: (5767, 100)\n"
     ]
    }
   ],
   "source": [
    "# Word lookup dictionary\n",
    "word_lookup = {word: vector for word, vector in zip(words_label, vectors)}\n",
    "\n",
    "# Define shape embedding matrix with vocaboulary size and vector size\n",
    "embedding_matrix = np.zeros((num_words, vectors.shape[1]))\n",
    "\n",
    "# Filter GloVe vectors to keep only those words that appear in the vocaboulary\n",
    "# N.B. the value of zero will be assigned to the words for which an embedding is not found\n",
    "not_found = 0\n",
    "\n",
    "for i, word in enumerate(word_idx.keys()):\n",
    "    # Look up the word embedding\n",
    "    vector = word_lookup.get(word, None)\n",
    "\n",
    "    # Record in matrix\n",
    "    if vector is not None:\n",
    "        embedding_matrix[i + 1, :] = vector\n",
    "    else:\n",
    "        not_found += 1        \n",
    "\n",
    "print(f'There are {not_found} words without pre-trained embeddings.')\n",
    "\n",
    "# Normalize and convert NaN values to 0\n",
    "embedding_matrix = embedding_matrix / \\\n",
    "    np.linalg.norm(embedding_matrix, axis=1).reshape((-1, 1))\n",
    "\n",
    "embedding_matrix = np.nan_to_num(embedding_matrix)\n",
    "\n",
    "print('Shape embedding matrix:', embedding_matrix.shape)"
   ]
  },
  {
   "cell_type": "code",
   "execution_count": 59,
   "id": "c4cc32e7",
   "metadata": {},
   "outputs": [
    {
     "data": {
      "text/plain": [
       "0"
      ]
     },
     "execution_count": 59,
     "metadata": {},
     "output_type": "execute_result"
    }
   ],
   "source": [
    "# Free up memory space\n",
    "import gc\n",
    "gc.enable()\n",
    "del vectors\n",
    "gc.collect()"
   ]
  },
  {
   "cell_type": "markdown",
   "id": "c69e4bef",
   "metadata": {},
   "source": [
    "## 4.3) Contruct and train LTSM-RNN models"
   ]
  },
  {
   "cell_type": "markdown",
   "id": "d602b71f",
   "metadata": {},
   "source": [
    "### 4.3.1) Define baseline for comparison\n",
    "\n",
    "In order to have a term of comparison for the performance of the RNN models, I created a baseline model to make predictions over the validation labels (i.e., y_valid) using word frequencies. The average validation accuracy when predicting the next word in the validation set by using the most frequent word in the vocabulary is around 3.5%."
   ]
  },
  {
   "cell_type": "code",
   "execution_count": 60,
   "id": "48227bf4",
   "metadata": {},
   "outputs": [
    {
     "data": {
      "text/plain": [
       "([0.03541683733377024,\n",
       "  0.03347805903716447,\n",
       "  0.0326588569400071,\n",
       "  0.024289342180715982,\n",
       "  0.020766773162939296,\n",
       "  0.020657546216651647,\n",
       "  0.01526446574369897,\n",
       "  0.014718331012260725,\n",
       "  0.01328472734223533,\n",
       "  0.0113322956773436],\n",
       " ['you', 'i', 'the', 'to', 'and', 'a', 'that', 'like', 'in', 'it'])"
      ]
     },
     "execution_count": 60,
     "metadata": {},
     "output_type": "execute_result"
    }
   ],
   "source": [
    "# Define baseline for comparison\n",
    "np.random.seed(40)\n",
    "\n",
    "# Number of all words\n",
    "total_words = sum(word_counts.values())\n",
    "\n",
    "# Compute frequency of each word in vocab\n",
    "frequencies = [word_counts[word] / total_words for word in word_idx.keys()]\n",
    "frequencies.insert(0, 0)\n",
    "\n",
    "# Print top 10 most frequent words\n",
    "frequencies[1:11], list(word_idx.keys())[0:10]"
   ]
  },
  {
   "cell_type": "code",
   "execution_count": 61,
   "id": "734ae6f7",
   "metadata": {},
   "outputs": [
    {
     "name": "stdout",
     "output_type": "stream",
     "text": [
      "The accuracy is 3.581%.\n"
     ]
    }
   ],
   "source": [
    "# Print baseline model validation accuracy\n",
    "print(f'The accuracy is {round(100 * np.mean(np.argmax(y_valid, axis = 1) == 1), 3)}%.')"
   ]
  },
  {
   "cell_type": "markdown",
   "id": "cdde3a08",
   "metadata": {},
   "source": [
    "### 4.3.2) Model 1 - RNN with LTSM cells\n",
    "\n",
    "Model 1 is a neural network based on a layer of 64 LSTM cells (see model summary for complete description of the layers). \n",
    "\n",
    "Unlike standard feedforward neural networks, LSTM is an artificial neural network that has feedback connections. LSTM unit is composed of a cell, an input gate, an output gate and a forget gate. The cell remembers values over arbitrary time intervals and the three gates regulate the flow of information into and out of the cell. This makes LSTM suitable for predictions on sequential data such as time series or, in this case, text sequences.\n",
    "\n",
    "The validation accuracy reached by this model is around 11.5%."
   ]
  },
  {
   "cell_type": "code",
   "execution_count": 62,
   "id": "0d0b3fb8",
   "metadata": {},
   "outputs": [
    {
     "name": "stdout",
     "output_type": "stream",
     "text": [
      "_________________________________________________________________\n",
      "Layer (type)                 Output Shape              Param #   \n",
      "=================================================================\n",
      "embedding (Embedding)        (None, None, 100)         576700    \n",
      "_________________________________________________________________\n",
      "masking (Masking)            (None, None, 100)         0         \n",
      "_________________________________________________________________\n",
      "lstm (LSTM)                  (None, 64)                42240     \n",
      "_________________________________________________________________\n",
      "batch_normalization (BatchNo (None, 64)                256       \n",
      "_________________________________________________________________\n",
      "dropout (Dropout)            (None, 64)                0         \n",
      "_________________________________________________________________\n",
      "dense (Dense)                (None, 5767)              374855    \n",
      "=================================================================\n",
      "Total params: 994,051\n",
      "Trainable params: 417,223\n",
      "Non-trainable params: 576,828\n",
      "_________________________________________________________________\n",
      "None\n"
     ]
    }
   ],
   "source": [
    "## Define Model_1\n",
    "\n",
    "# Set parameters\n",
    "LSTM_CELLS = 64\n",
    "EPOCHS = 150\n",
    "BATCH_SIZE = 1000\n",
    "VERBOSE = 1\n",
    "\n",
    "# Define architecture \n",
    "model_1 = Sequential()\n",
    "model_1.add(Embedding(input_dim=num_words, output_dim=embedding_matrix.shape[1], weights=[embedding_matrix], trainable=False, mask_zero=True))\n",
    "model_1.add(Masking())\n",
    "model_1.add(LSTM(LSTM_CELLS, return_sequences=False, dropout=0.1, recurrent_dropout=0.1))\n",
    "model_1.add(BatchNormalization())\n",
    "#model_1.add(Dense(64, activation='relu'))\n",
    "model_1.add(Dropout(0.3))\n",
    "model_1.add(Dense(num_words, activation='softmax'))\n",
    "\n",
    "print(model_1.summary())\n",
    "\n",
    "# Compile model\n",
    "#opt = keras.optimizers.Adam(lr=0.01)\n",
    "model_1.compile(loss='categorical_crossentropy', optimizer='adam', metrics=['accuracy'])\n",
    "\n",
    "# Set Early stopping and reduce learning rate callbacks\n",
    "reduce_lr = keras.callbacks.ReduceLROnPlateau(monitor='val_loss', factor=0.5, patience=3, min_lr=0.0001)\n",
    "\n",
    "early_stopping = keras.callbacks.EarlyStopping(monitor='val_loss', patience=5)"
   ]
  },
  {
   "cell_type": "code",
   "execution_count": 63,
   "id": "3d7f046f",
   "metadata": {},
   "outputs": [
    {
     "name": "stdout",
     "output_type": "stream",
     "text": [
      "Train on 50954 samples, validate on 21838 samples\n",
      "Epoch 1/150\n",
      "50954/50954 [==============================] - 18s 354us/step - loss: 8.5778 - acc: 0.0174 - val_loss: 8.5390 - val_acc: 0.0471\n",
      "Epoch 2/150\n",
      "50954/50954 [==============================] - 10s 205us/step - loss: 8.1267 - acc: 0.0464 - val_loss: 8.1868 - val_acc: 0.0517\n",
      "Epoch 3/150\n",
      "50954/50954 [==============================] - 10s 201us/step - loss: 7.3619 - acc: 0.0616 - val_loss: 7.6581 - val_acc: 0.0637\n",
      "Epoch 4/150\n",
      "50954/50954 [==============================] - 10s 201us/step - loss: 6.6438 - acc: 0.0770 - val_loss: 7.0002 - val_acc: 0.0588\n",
      "Epoch 5/150\n",
      "50954/50954 [==============================] - 10s 201us/step - loss: 6.1340 - acc: 0.0834 - val_loss: 6.5247 - val_acc: 0.0545\n",
      "Epoch 6/150\n",
      "50954/50954 [==============================] - 10s 202us/step - loss: 5.8428 - acc: 0.0876 - val_loss: 6.2686 - val_acc: 0.0578\n",
      "Epoch 7/150\n",
      "50954/50954 [==============================] - 10s 203us/step - loss: 5.6799 - acc: 0.0894 - val_loss: 6.1523 - val_acc: 0.0656\n",
      "Epoch 8/150\n",
      "50954/50954 [==============================] - 10s 202us/step - loss: 5.5832 - acc: 0.0909 - val_loss: 6.0629 - val_acc: 0.0707\n",
      "Epoch 9/150\n",
      "50954/50954 [==============================] - 10s 202us/step - loss: 5.5081 - acc: 0.0921 - val_loss: 5.9669 - val_acc: 0.0813\n",
      "Epoch 10/150\n",
      "50954/50954 [==============================] - 10s 202us/step - loss: 5.4531 - acc: 0.0935 - val_loss: 5.8827 - val_acc: 0.0936\n",
      "Epoch 11/150\n",
      "50954/50954 [==============================] - 10s 202us/step - loss: 5.3913 - acc: 0.0952 - val_loss: 5.8392 - val_acc: 0.0968\n",
      "Epoch 12/150\n",
      "50954/50954 [==============================] - 10s 202us/step - loss: 5.3427 - acc: 0.0968 - val_loss: 5.7864 - val_acc: 0.1001\n",
      "Epoch 13/150\n",
      "50954/50954 [==============================] - 10s 201us/step - loss: 5.2991 - acc: 0.0987 - val_loss: 5.7782 - val_acc: 0.1019\n",
      "Epoch 14/150\n",
      "50954/50954 [==============================] - 10s 202us/step - loss: 5.2478 - acc: 0.0995 - val_loss: 5.7675 - val_acc: 0.1053\n",
      "Epoch 15/150\n",
      "50954/50954 [==============================] - 10s 197us/step - loss: 5.2061 - acc: 0.1012 - val_loss: 5.7615 - val_acc: 0.1041\n",
      "Epoch 16/150\n",
      "50954/50954 [==============================] - 10s 194us/step - loss: 5.1627 - acc: 0.1016 - val_loss: 5.7604 - val_acc: 0.1068\n",
      "Epoch 17/150\n",
      "50954/50954 [==============================] - 10s 194us/step - loss: 5.1192 - acc: 0.1029 - val_loss: 5.7474 - val_acc: 0.1072\n",
      "Epoch 18/150\n",
      "50954/50954 [==============================] - 10s 192us/step - loss: 5.0829 - acc: 0.1044 - val_loss: 5.7622 - val_acc: 0.1056\n",
      "Epoch 19/150\n",
      "50954/50954 [==============================] - 10s 190us/step - loss: 5.0418 - acc: 0.1067 - val_loss: 5.7450 - val_acc: 0.1079\n",
      "Epoch 20/150\n",
      "50954/50954 [==============================] - 10s 191us/step - loss: 5.0027 - acc: 0.1073 - val_loss: 5.7472 - val_acc: 0.1100\n",
      "Epoch 21/150\n",
      "50954/50954 [==============================] - 10s 191us/step - loss: 4.9700 - acc: 0.1104 - val_loss: 5.7401 - val_acc: 0.1116\n",
      "Epoch 22/150\n",
      "50954/50954 [==============================] - 10s 190us/step - loss: 4.9349 - acc: 0.1106 - val_loss: 5.7544 - val_acc: 0.1119\n",
      "Epoch 23/150\n",
      "50954/50954 [==============================] - 10s 190us/step - loss: 4.9080 - acc: 0.1139 - val_loss: 5.7422 - val_acc: 0.1109\n",
      "Epoch 24/150\n",
      "50954/50954 [==============================] - 10s 191us/step - loss: 4.8768 - acc: 0.1132 - val_loss: 5.7375 - val_acc: 0.1118\n",
      "Epoch 25/150\n",
      "50954/50954 [==============================] - 10s 191us/step - loss: 4.8485 - acc: 0.1169 - val_loss: 5.7426 - val_acc: 0.1132\n",
      "Epoch 26/150\n",
      "50954/50954 [==============================] - 10s 190us/step - loss: 4.8225 - acc: 0.1176 - val_loss: 5.7438 - val_acc: 0.1126\n",
      "Epoch 27/150\n",
      "50954/50954 [==============================] - 10s 191us/step - loss: 4.7961 - acc: 0.1182 - val_loss: 5.7401 - val_acc: 0.1145\n",
      "Epoch 28/150\n",
      "50954/50954 [==============================] - 10s 192us/step - loss: 4.7494 - acc: 0.1243 - val_loss: 5.7365 - val_acc: 0.1164\n",
      "Epoch 29/150\n",
      "50954/50954 [==============================] - 10s 192us/step - loss: 4.7320 - acc: 0.1248 - val_loss: 5.7331 - val_acc: 0.1159\n",
      "Epoch 30/150\n",
      "50954/50954 [==============================] - 10s 192us/step - loss: 4.7199 - acc: 0.1256 - val_loss: 5.7338 - val_acc: 0.1153\n",
      "Epoch 31/150\n",
      "50954/50954 [==============================] - 10s 196us/step - loss: 4.7076 - acc: 0.1279 - val_loss: 5.7339 - val_acc: 0.1148\n",
      "Epoch 32/150\n",
      "50954/50954 [==============================] - 10s 198us/step - loss: 4.7013 - acc: 0.1293 - val_loss: 5.7349 - val_acc: 0.1151\n",
      "Epoch 33/150\n",
      "50954/50954 [==============================] - 11s 209us/step - loss: 4.6778 - acc: 0.1293 - val_loss: 5.7331 - val_acc: 0.1155\n",
      "Epoch 34/150\n",
      "50954/50954 [==============================] - 10s 200us/step - loss: 4.6632 - acc: 0.1338 - val_loss: 5.7316 - val_acc: 0.1165\n",
      "Epoch 35/150\n",
      "50954/50954 [==============================] - 10s 201us/step - loss: 4.6575 - acc: 0.1336 - val_loss: 5.7325 - val_acc: 0.1165\n",
      "Epoch 36/150\n",
      "50954/50954 [==============================] - 10s 201us/step - loss: 4.6514 - acc: 0.1331 - val_loss: 5.7321 - val_acc: 0.1153\n",
      "Epoch 37/150\n",
      "50954/50954 [==============================] - 10s 200us/step - loss: 4.6428 - acc: 0.1348 - val_loss: 5.7323 - val_acc: 0.1155\n",
      "Epoch 38/150\n",
      "50954/50954 [==============================] - 10s 200us/step - loss: 4.6409 - acc: 0.1356 - val_loss: 5.7315 - val_acc: 0.1161\n",
      "Epoch 39/150\n",
      "50954/50954 [==============================] - 10s 199us/step - loss: 4.6288 - acc: 0.1348 - val_loss: 5.7330 - val_acc: 0.1166\n",
      "Epoch 40/150\n",
      "50954/50954 [==============================] - 10s 198us/step - loss: 4.6274 - acc: 0.1352 - val_loss: 5.7316 - val_acc: 0.1160\n",
      "Epoch 41/150\n",
      "50954/50954 [==============================] - 10s 200us/step - loss: 4.6235 - acc: 0.1380 - val_loss: 5.7321 - val_acc: 0.1153\n",
      "Epoch 42/150\n",
      "50954/50954 [==============================] - 10s 201us/step - loss: 4.6248 - acc: 0.1371 - val_loss: 5.7336 - val_acc: 0.1160\n",
      "Epoch 43/150\n",
      "50954/50954 [==============================] - 10s 199us/step - loss: 4.6174 - acc: 0.1366 - val_loss: 5.7319 - val_acc: 0.1161\n"
     ]
    }
   ],
   "source": [
    "# Fit model\n",
    "hist_model_1 = model_1.fit(X_train, y_train, batch_size=BATCH_SIZE,\n",
    "                           epochs=EPOCHS,\n",
    "                           verbose=VERBOSE,\n",
    "                           callbacks=[early_stopping, reduce_lr],\n",
    "                           validation_data=(X_valid, y_valid))"
   ]
  },
  {
   "cell_type": "code",
   "execution_count": 64,
   "id": "0759b754",
   "metadata": {},
   "outputs": [
    {
     "data": {
      "image/png": "[encoded data removed]",
      "text/plain": [
       "<Figure size 1296x432 with 2 Axes>"
      ]
     },
     "metadata": {},
     "output_type": "display_data"
    }
   ],
   "source": [
    "# Plot loss value and accuracy graphs\n",
    "\n",
    "plt.style.use('ggplot')#set style\n",
    "plt.rcParams[\"font.size\"] = 11 # set default font size\n",
    "\n",
    "fig, (ax1, ax2) = plt.subplots(nrows=1, ncols=2, figsize=(18, 6))\n",
    "\n",
    "# Plot accuracy values\n",
    "ax1.plot(hist_model_1.history['loss'], label='Train loss')\n",
    "ax1.plot(hist_model_1.history['val_loss'], label='Val loss')\n",
    "ax1.set_title('Validation loss {:.3f} (mean last 3 epochs)'.format(\n",
    "    np.mean(hist_model_1.history['val_loss'][-3:]) # last three values\n",
    "))\n",
    "ax1.set_xlabel('Epoch')\n",
    "ax1.set_ylabel('Loss value')\n",
    "ax1.legend()\n",
    "\n",
    "# Plot accuracy values\n",
    "ax2.plot(hist_model_1.history['acc'], label='Train accuracy')\n",
    "ax2.plot(hist_model_1.history['val_acc'], label='Val accuracy')\n",
    "ax2.set_title('Validation accuracy {:.3f} (mean last 3 epochs)'.format(\n",
    "    np.mean(hist_model_1.history['val_acc'][-3:]) # last three values\n",
    "))\n",
    "ax2.set_xlabel('Epoch')\n",
    "ax2.set_ylabel('Accuracy')\n",
    "ax2.legend()\n",
    "\n",
    "plt.show()"
   ]
  },
  {
   "cell_type": "markdown",
   "id": "4b1a590a",
   "metadata": {},
   "source": [
    "### 4.3.3) Model 2 - RNN with GRU cells\n",
    "\n",
    "Model 2 is a neural network based on 1 layer of 64 GRU cells (see model summary for complete description of the layers). \n",
    "\n",
    "Similarly to LSTM cells, Gated Recurrent Units (GRU) have a forget gate but fewer parameters to estimate as they lack an output gate. GRUs have been shown to exhibit better performance on certain smaller and less frequent datasets so they could be ideal for this case.\n",
    "\n",
    "The validation accuracy reached by this model is around 11%."
   ]
  },
  {
   "cell_type": "code",
   "execution_count": 65,
   "id": "65faee90",
   "metadata": {},
   "outputs": [
    {
     "name": "stdout",
     "output_type": "stream",
     "text": [
      "_________________________________________________________________\n",
      "Layer (type)                 Output Shape              Param #   \n",
      "=================================================================\n",
      "embedding_1 (Embedding)      (None, None, 100)         576700    \n",
      "_________________________________________________________________\n",
      "masking_1 (Masking)          (None, None, 100)         0         \n",
      "_________________________________________________________________\n",
      "gru (GRU)                    (None, 64)                31680     \n",
      "_________________________________________________________________\n",
      "batch_normalization_1 (Batch (None, 64)                256       \n",
      "_________________________________________________________________\n",
      "dropout_1 (Dropout)          (None, 64)                0         \n",
      "_________________________________________________________________\n",
      "dense_1 (Dense)              (None, 5767)              374855    \n",
      "=================================================================\n",
      "Total params: 983,491\n",
      "Trainable params: 406,663\n",
      "Non-trainable params: 576,828\n",
      "_________________________________________________________________\n",
      "None\n"
     ]
    }
   ],
   "source": [
    "## Define Model_2\n",
    "\n",
    "# Set parameters\n",
    "GRU_CELLS = 64\n",
    "EPOCHS = 150\n",
    "BATCH_SIZE = 1000\n",
    "VERBOSE = 1\n",
    "\n",
    "\n",
    "# Define architecture \n",
    "model_2 = Sequential()\n",
    "model_2.add(Embedding(input_dim=num_words, output_dim=embedding_matrix.shape[1], weights=[embedding_matrix], trainable=False, mask_zero=True))\n",
    "model_2.add(Masking())\n",
    "#model_2.add(Bidirectional(LSTM(LSTM_CELLS, return_sequences=False, dropout=0.1, recurrent_dropout=0.1)))\n",
    "model_2.add(GRU(GRU_CELLS, return_sequences=False, dropout=0.1, recurrent_dropout=0.1))\n",
    "model_2.add(BatchNormalization())\n",
    "#model_2.add(Dense(64, activation='relu'))\n",
    "model_2.add(Dropout(0.3))\n",
    "model_2.add(Dense(num_words, activation='softmax'))\n",
    "\n",
    "print(model_2.summary())\n",
    "\n",
    "# Compile model\n",
    "model_2.compile(loss='categorical_crossentropy', optimizer='adam', metrics=['accuracy'])\n",
    "\n",
    "# Set Early stopping and reduce learning rate callbacks\n",
    "reduce_lr = keras.callbacks.ReduceLROnPlateau(monitor='val_loss', factor=0.5, patience=3, min_lr=0.001)\n",
    "\n",
    "early_stopping = keras.callbacks.EarlyStopping(monitor='val_loss', patience=5)"
   ]
  },
  {
   "cell_type": "code",
   "execution_count": 66,
   "id": "976b0805",
   "metadata": {},
   "outputs": [
    {
     "name": "stdout",
     "output_type": "stream",
     "text": [
      "Train on 50954 samples, validate on 21838 samples\n",
      "Epoch 1/150\n",
      "50954/50954 [==============================] - 18s 346us/step - loss: 8.5457 - acc: 0.0238 - val_loss: 8.5263 - val_acc: 0.0367\n",
      "Epoch 2/150\n",
      "50954/50954 [==============================] - 13s 258us/step - loss: 8.0035 - acc: 0.0559 - val_loss: 8.1671 - val_acc: 0.0422\n",
      "Epoch 3/150\n",
      "50954/50954 [==============================] - 12s 238us/step - loss: 7.2479 - acc: 0.0709 - val_loss: 7.6150 - val_acc: 0.0643\n",
      "Epoch 4/150\n",
      "50954/50954 [==============================] - 11s 217us/step - loss: 6.5528 - acc: 0.0817 - val_loss: 6.9810 - val_acc: 0.0598\n",
      "Epoch 5/150\n",
      "50954/50954 [==============================] - 10s 203us/step - loss: 6.1147 - acc: 0.0853 - val_loss: 6.5235 - val_acc: 0.0571\n",
      "Epoch 6/150\n",
      "50954/50954 [==============================] - 10s 194us/step - loss: 5.8423 - acc: 0.0878 - val_loss: 6.2773 - val_acc: 0.0598\n",
      "Epoch 7/150\n",
      "50954/50954 [==============================] - 10s 187us/step - loss: 5.6807 - acc: 0.0905 - val_loss: 6.1314 - val_acc: 0.0679\n",
      "Epoch 8/150\n",
      "50954/50954 [==============================] - 9s 181us/step - loss: 5.5756 - acc: 0.0926 - val_loss: 6.0283 - val_acc: 0.0791\n",
      "Epoch 9/150\n",
      "50954/50954 [==============================] - 9s 180us/step - loss: 5.4986 - acc: 0.0944 - val_loss: 5.9436 - val_acc: 0.0883\n",
      "Epoch 10/150\n",
      "50954/50954 [==============================] - 9s 175us/step - loss: 5.4353 - acc: 0.0973 - val_loss: 5.8736 - val_acc: 0.0950\n",
      "Epoch 11/150\n",
      "50954/50954 [==============================] - 9s 172us/step - loss: 5.3849 - acc: 0.0973 - val_loss: 5.8344 - val_acc: 0.1005\n",
      "Epoch 12/150\n",
      "50954/50954 [==============================] - 9s 173us/step - loss: 5.3292 - acc: 0.0976 - val_loss: 5.8006 - val_acc: 0.1023\n",
      "Epoch 13/150\n",
      "50954/50954 [==============================] - 9s 170us/step - loss: 5.2872 - acc: 0.0988 - val_loss: 5.7865 - val_acc: 0.1063\n",
      "Epoch 14/150\n",
      "50954/50954 [==============================] - 9s 168us/step - loss: 5.2461 - acc: 0.1012 - val_loss: 5.7865 - val_acc: 0.1078\n",
      "Epoch 15/150\n",
      "50954/50954 [==============================] - 9s 168us/step - loss: 5.2113 - acc: 0.1010 - val_loss: 5.7711 - val_acc: 0.1072\n",
      "Epoch 16/150\n",
      "50954/50954 [==============================] - 8s 166us/step - loss: 5.1663 - acc: 0.1032 - val_loss: 5.7725 - val_acc: 0.1097\n",
      "Epoch 17/150\n",
      "50954/50954 [==============================] - 9s 167us/step - loss: 5.1318 - acc: 0.1019 - val_loss: 5.7700 - val_acc: 0.1083\n",
      "Epoch 18/150\n",
      "50954/50954 [==============================] - 9s 167us/step - loss: 5.0950 - acc: 0.1053 - val_loss: 5.7733 - val_acc: 0.1086\n",
      "Epoch 19/150\n",
      "50954/50954 [==============================] - 9s 168us/step - loss: 5.0573 - acc: 0.1035 - val_loss: 5.7806 - val_acc: 0.1109\n",
      "Epoch 20/150\n",
      "50954/50954 [==============================] - 9s 170us/step - loss: 5.0344 - acc: 0.1075 - val_loss: 5.7740 - val_acc: 0.1097\n",
      "Epoch 21/150\n",
      "50954/50954 [==============================] - 9s 172us/step - loss: 4.9942 - acc: 0.1072 - val_loss: 5.7609 - val_acc: 0.1117\n",
      "Epoch 22/150\n",
      "50954/50954 [==============================] - 8s 165us/step - loss: 4.9744 - acc: 0.1104 - val_loss: 5.7617 - val_acc: 0.1109\n",
      "Epoch 23/150\n",
      "50954/50954 [==============================] - 8s 164us/step - loss: 4.9430 - acc: 0.1103 - val_loss: 5.7551 - val_acc: 0.1111\n",
      "Epoch 24/150\n",
      "50954/50954 [==============================] - 8s 162us/step - loss: 4.9077 - acc: 0.1120 - val_loss: 5.7564 - val_acc: 0.1115\n",
      "Epoch 25/150\n",
      "50954/50954 [==============================] - 8s 165us/step - loss: 4.8818 - acc: 0.1147 - val_loss: 5.7718 - val_acc: 0.1117\n",
      "Epoch 26/150\n",
      "50954/50954 [==============================] - 8s 165us/step - loss: 4.8572 - acc: 0.1167 - val_loss: 5.7614 - val_acc: 0.1114\n",
      "Epoch 27/150\n",
      "50954/50954 [==============================] - 9s 170us/step - loss: 4.8455 - acc: 0.1153 - val_loss: 5.7626 - val_acc: 0.1140\n",
      "Epoch 28/150\n",
      "50954/50954 [==============================] - 9s 170us/step - loss: 4.8212 - acc: 0.1182 - val_loss: 5.7585 - val_acc: 0.1134\n"
     ]
    }
   ],
   "source": [
    "# Fit model\n",
    "hist_model_2 = model_2.fit(X_train, y_train, batch_size=BATCH_SIZE,\n",
    "                           epochs=EPOCHS,\n",
    "                           verbose=VERBOSE,\n",
    "                           callbacks=[reduce_lr, early_stopping],\n",
    "                           validation_data=(X_valid, y_valid))"
   ]
  },
  {
   "cell_type": "code",
   "execution_count": 67,
   "id": "4be11143",
   "metadata": {},
   "outputs": [
    {
     "data": {
      "image/png": "[encoded data removed]",
      "text/plain": [
       "<Figure size 1296x432 with 2 Axes>"
      ]
     },
     "metadata": {},
     "output_type": "display_data"
    }
   ],
   "source": [
    "# Plot loss value and accuracy graphs\n",
    "\n",
    "plt.style.use('ggplot')#set style\n",
    "plt.rcParams[\"font.size\"] = 11 # set default font size\n",
    "\n",
    "fig, (ax1, ax2) = plt.subplots(nrows=1, ncols=2, figsize=(18, 6))\n",
    "\n",
    "# Plot accuracy values\n",
    "ax1.plot(hist_model_2.history['loss'], label='Train loss')\n",
    "ax1.plot(hist_model_2.history['val_loss'], label='Val loss')\n",
    "ax1.set_title('Validation loss {:.3f} (mean last 3 epochs)'.format(\n",
    "    np.mean(hist_model_2.history['val_loss'][-3:]) # last three values\n",
    "))\n",
    "ax1.set_xlabel('Epoch')\n",
    "ax1.set_ylabel('Loss value')\n",
    "ax1.legend()\n",
    "\n",
    "# Plot accuracy values\n",
    "ax2.plot(hist_model_2.history['acc'], label='Train accuracy')\n",
    "ax2.plot(hist_model_2.history['val_acc'], label='Val accuracy')\n",
    "ax2.set_title('Validation accuracy {:.3f} (mean last 3 epochs)'.format(\n",
    "    np.mean(hist_model_2.history['val_acc'][-3:]) # last three values\n",
    "))\n",
    "ax2.set_xlabel('Epoch')\n",
    "ax2.set_ylabel('Accuracy')\n",
    "ax2.legend()\n",
    "\n",
    "plt.show()"
   ]
  },
  {
   "cell_type": "markdown",
   "id": "30a9b342",
   "metadata": {},
   "source": [
    "### 4.3.4) Comparison of models performance\n",
    "\n",
    "The two RNN models reach very similar levels of validation accuracy. It does not seem therefore that GRU cells have an accuracy advantage in this case.\n",
    "\n",
    "In general, the level of validation accuracy reached by the RNN models is not very high. As mentioned at the beginning of the section, the prediction task is quite complex and, for computational reasons, training sample had to be kept small. Both models are therefore trying to predict the right class/next word in the sequence out of more than 5500 classes/words using a training sample of 50000 sequences. This means, on average, that for each of the 5700 classes there are less than 10 examples present in the training data.\n",
    "\n",
    "Nevertheless, we can see that in a short amount of time (and with a small amount of data) both RNN models become 3 times more accurate in predicting text sequences compared to the baseline model."
   ]
  },
  {
   "cell_type": "code",
   "execution_count": 68,
   "id": "84b6e0ca",
   "metadata": {},
   "outputs": [
    {
     "data": {
      "image/png": "[encoded data removed]",
      "text/plain": [
       "<Figure size 720x360 with 1 Axes>"
      ]
     },
     "metadata": {},
     "output_type": "display_data"
    }
   ],
   "source": [
    "## Model performance bar chart\n",
    "\n",
    "accuracy = [np.mean(hist_model_2.history['val_acc'][-3:]), # Model 2 - GRU\n",
    "            np.mean(hist_model_1.history['val_acc'][-3:]), # Model 1 - LSTM\n",
    "            round(np.mean(np.argmax(y_valid, axis = 1) == 1), 3)] # Baseline accuracy\n",
    "\n",
    "models = ['GRU', 'LSTM', 'Baseline']\n",
    "\n",
    "# Plot\n",
    "plt.style.use('ggplot')#set style\n",
    "plt.rcParams[\"font.size\"] = 11 # set default font size\n",
    "\n",
    "fig = plt.figure(figsize=(10, 5))#set subplot and fig size\n",
    "\n",
    "plt.bar(np.arange(3), accuracy, color=sns.color_palette(\"plasma\", 3))\n",
    "plt.xticks(np.arange(3), models, ha=\"center\")\n",
    "plt.ylabel('Accuracy')\n",
    "plt.title(\"Models performance\")\n",
    "\n",
    "plt.show()"
   ]
  },
  {
   "cell_type": "markdown",
   "id": "35efa6aa",
   "metadata": {},
   "source": [
    "## 4.4) Generate text\n",
    "\n",
    "Finally, the best performing RNN model has been employed to generate new text. In this exercise, I fed the trained RNN model with a seed sequence of text from the stand-up comedy scripts, have it make a prediction, add the predicted word to the sequence, and make another prediction for the next word. This process continues for the number of words that we want (the new_words parameter regulates this).\n",
    "\n",
    "The comparison between the new generated text by the model and the actual sequence of text shows that the model is still far from generating meaningful human-like text. However, it is interesting to notice that despite its low level of validation accuracy, the model is still capable to produce funny sentences (although not very meaningful!).\n",
    "\n",
    "As already mentioned, it must be noted that the model was trained on a relatively small sample (around 50000 observations) of complex text (vocabulary with over 5000 words/classes to predict) for around 30 epochs. This means that, similarly to other application cases of deep learning, the volume of data and the amount of computational power are key to improve the generation capabilities of the model."
   ]
  },
  {
   "cell_type": "code",
   "execution_count": 69,
   "id": "e3a83c8e",
   "metadata": {},
   "outputs": [],
   "source": [
    "# Define function to remove spaces around punctuation\n",
    "def remove_spaces(script):\n",
    "    '''Remove spaces around punctuation'''\n",
    "    script = re.sub(r'\\s+([.,;?])', r'\\1', script)\n",
    "\n",
    "    return script"
   ]
  },
  {
   "cell_type": "code",
   "execution_count": 70,
   "id": "37cc0c6f",
   "metadata": {},
   "outputs": [],
   "source": [
    "# Define function to generate text\n",
    "\n",
    "def generate_text(model, sequences, training_length=50, new_words=50, diversity=1, return_output=False, n_gen=1):\n",
    "    \n",
    "    '''Generate new text using trained model'''\n",
    "\n",
    "    # Choose a random text sequence\n",
    "    seq = random.choice(sequences)\n",
    "\n",
    "    # Choose a random starting point\n",
    "    seed_idx = random.randint(0, len(seq) - training_length - 10)\n",
    "\n",
    "    # Ending index for seed\n",
    "    end_idx = seed_idx + training_length\n",
    "\n",
    "    gen_list = []\n",
    "\n",
    "    for n in range(n_gen):\n",
    "        # Extract the seed sequence\n",
    "        seed = seq[seed_idx:end_idx]\n",
    "        original_sequence = [idx_word[i] for i in seed]\n",
    "        generated = seed[:] + ['#']\n",
    "\n",
    "        # Find the actual entire sequence\n",
    "        actual = generated[:] + seq[end_idx:end_idx + new_words]\n",
    "\n",
    "        # Keep adding new words\n",
    "        for i in range(new_words):\n",
    "\n",
    "            # Make a prediction from the seed\n",
    "            preds = model.predict(np.array(seed).reshape(1, -1))[0].astype(np.float64)\n",
    "\n",
    "            # Diversify\n",
    "            preds = np.log(preds) / diversity\n",
    "            exp_preds = np.exp(preds)\n",
    "\n",
    "            # Softmax\n",
    "            preds = exp_preds / sum(exp_preds)\n",
    "\n",
    "            # Choose the next word\n",
    "            probas = np.random.multinomial(1, preds, 1)[0]\n",
    "\n",
    "            next_idx = np.argmax(probas)\n",
    "\n",
    "            # New seed adds on old word\n",
    "            seed = seed[1:] + [next_idx]\n",
    "            generated.append(next_idx)\n",
    "\n",
    "        # Showing generated and actual script\n",
    "        n = []\n",
    "\n",
    "        for i in generated:\n",
    "            n.append(idx_word.get(i, '===>'))\n",
    "\n",
    "        gen_list.append(n)\n",
    "\n",
    "    a = []\n",
    "\n",
    "    for i in actual:\n",
    "        a.append(idx_word.get(i, '===>'))\n",
    "\n",
    "    a = a[training_length:]\n",
    "\n",
    "    gen_list = [gen[training_length:training_length + len(a)] for gen in gen_list]\n",
    "\n",
    "    if return_output:\n",
    "        return original_sequence, gen_list, a\n",
    "\n",
    "    # Print output\n",
    "    seed_header = print('\\033[1m' + 'Randomly drawn seed sequence:' + '\\033[0m', '\\n')\n",
    "    seed_text = print(remove_spaces(' '.join(original_sequence)), '\\n\\n')\n",
    "\n",
    "    gen_header = print('\\033[91m' + 'Model 1 LSTM - Generated:' + '\\033[0m', '\\n')\n",
    "    gen_text =  print(remove_spaces(' '.join(gen_list[0])), '\\n')\n",
    "\n",
    "    actual_header = print('\\033[92m' + 'Actual text:' + '\\033[0m', '\\n')\n",
    "    actual_text = print(remove_spaces(' '.join(a)), '\\n')\n",
    "\n",
    "    return seed_header, seed_text, gen_header, gen_text, actual_header, actual_text"
   ]
  },
  {
   "cell_type": "code",
   "execution_count": 71,
   "id": "b20fe74d",
   "metadata": {},
   "outputs": [
    {
     "name": "stdout",
     "output_type": "stream",
     "text": [
      "\u001b[1mRandomly drawn seed sequence:\u001b[0m \n",
      "\n",
      "yeah that's gay you can't do that no more little shit like dudes you can't be talkin' to another dude on the phone and hung up talkin' about byebye that's gay man we can't say byebye to another dude dawg trip man being a father and i was talkin' about \n",
      "\n",
      "\n",
      "\u001b[91mModel 1 LSTM - Generated:\u001b[0m \n",
      "\n",
      "===> i realized i heard i'm a man i brought a dream because every was all and the time he did that an dick you got a picture of bullies a kid like how nigga struggling the most mall can is talkin' going to pack run space to right to pack \n",
      "\n",
      "\u001b[92mActual text:\u001b[0m \n",
      "\n",
      "===> all the young kids with their communicating right there 'cause i've been married 16 years man i been trying my wife still be tryin' to keep a hot thing yeah my baby she a good babe too we be tryin' to keep the shit fresh so i be tryin' to \n",
      "\n"
     ]
    }
   ],
   "source": [
    "seed_header, seed_text, gen_header, gen_text, actual_header, actual_text = generate_text(model_1, sequences, SEQUENCE_LENGHT)"
   ]
  }
 ],
 "metadata": {
  "kernelspec": {
   "display_name": "Python 3",
   "language": "python",
   "name": "python3"
  },
  "language_info": {
   "codemirror_mode": {
    "name": "ipython",
    "version": 3
   },
   "file_extension": ".py",
   "mimetype": "text/x-python",
   "name": "python",
   "nbconvert_exporter": "python",
   "pygments_lexer": "ipython3",
   "version": "3.6.13"
  }
 },
 "nbformat": 4,
 "nbformat_minor": 5
}
